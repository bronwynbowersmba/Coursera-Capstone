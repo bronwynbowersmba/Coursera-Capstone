<h1 align="center"><font size="6"> Applied Data Science Capstone </font></h1>
<h1 align="center"><font size="4"> Project Notebook - The Battle of Neighborhoods</font></h1>
<h1 align="center"><font size="3"> By Bronwyn B., MBA </font></h1>

# Applied Data Science Capstone - Project Notebook - Week 1 Assignment - Bronwyn B., MBA
In this assignment, you will be asked to create a new repository on your Github account, and to create a Jupyter Notebook and submit a shareable link to it for peer evaluation.


# 2. Import the pandas library as pd.
import pandas as pd
# 3. Import the Numpy library as np.
import numpy as np

# 4. Print the following the statement: Hello Capstone Project Course!
print ("Hello Capstone Project Course!")
